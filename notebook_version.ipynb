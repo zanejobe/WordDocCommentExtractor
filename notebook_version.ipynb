{
 "cells": [
  {
   "cell_type": "markdown",
   "metadata": {},
   "source": [
    "from this page https://carstenknoch.com/2020/02/qualitative-data-analysis-with-microsoft-word-comments-python-updated/"
   ]
  },
  {
   "cell_type": "code",
   "execution_count": 5,
   "metadata": {},
   "outputs": [
    {
     "name": "stdout",
     "output_type": "stream",
     "text": [
      "working\n",
      "working\n"
     ]
    }
   ],
   "source": [
    "import zipfile\n",
    "import csv\n",
    "from bs4 import BeautifulSoup as Soup\n",
    "import tkinter as tk\n",
    "from tkinter import filedialog\n",
    "import re\n",
    "\n",
    "# Show file selection dialog box\n",
    "root = tk.Tk()\n",
    "root.withdraw()\n",
    "paths = filedialog.askopenfilenames()\n",
    "root.update()\n",
    "\n",
    "with open('/'.join(paths[0].split('/')[0:-1])+'/output.csv', 'w', newline='', encoding='utf-8-sig') as f:\n",
    "\tcsvw = csv.writer(f)\n",
    "\t# loop through each selected file\n",
    "\tfor path in paths:\n",
    "\t\tprint('working')\n",
    "\t\t# Write a header line with the filename\n",
    "\t\tcsvw.writerow([path.split('/')[-1], ''])\n",
    "\t\t# .docx files are really ZIP files with a separate 'file' within them for the document\n",
    "\t\t# itself and the text of the comments. This unzips the file and parses the comments.xml\n",
    "\t\t# file within it, which contains the comment (label) text\n",
    "\t\tunzip = zipfile.ZipFile(path)\n",
    "\t\tcomments = Soup(unzip.read('word/comments.xml'), 'lxml')\n",
    "\t\t# The structure of the document itself is more complex and we need to do some\n",
    "\t\t# preprocessing to handle multi-paragraph and nested comments, so we unzip\n",
    "\t\t# it into a string first\n",
    "\t\tdoc = unzip.read('word/document.xml').decode()\n",
    "\t\t# Find all the comment start and end locations and store them in dictionaries\n",
    "\t\t# keyed on the unique ID for each comment\n",
    "\t\tstart_loc = {x.group(1): x.start() for x in re.finditer(r'<w:commentRangeStart.*?w:id=\"(.*?)\"', doc)}\n",
    "\t\tend_loc = {x.group(1): x.end() for x in re.finditer(r'<w:commentRangeEnd.*?w:id=\"(.*?)\".*?>', doc)}\n",
    "\t\t# loop through all the comments in the comments.xml file\n",
    "\t\tfor c in comments.find_all('w:comment'):\n",
    "\t\t\tc_id = c.attrs['w:id']\n",
    "\t\t\t# Use the locations we found earlier to extract the xml fragment from the document for\n",
    "\t\t\t# each comment ID, adding spaces to separate any paragraphs in multi-paragraph comments\n",
    "\t\t\txml = re.sub(r'(<w:p .*?>)', r'\\1 ', doc[start_loc[c_id]:end_loc[c_id] + 1])\n",
    "\t\t\t# Parse the XML fragment, extract any text and write to file along with the label text\n",
    "\t\t\tcsvw.writerow([''.join(c.findAll(text=True)), ''.join(Soup(xml, 'lxml').findAll(text=True))])\n",
    "\t\tunzip.close()\n"
   ]
  },
  {
   "cell_type": "code",
   "execution_count": 6,
   "metadata": {},
   "outputs": [
    {
     "data": {
      "text/plain": [
       "'/Users/zanejobe/Google_Drive/output.csv'"
      ]
     },
     "execution_count": 6,
     "metadata": {},
     "output_type": "execute_result"
    }
   ],
   "source": [
    "'/'.join(paths[0].split('/')[0:-1])+'/output.csv'"
   ]
  },
  {
   "cell_type": "code",
   "execution_count": null,
   "metadata": {},
   "outputs": [],
   "source": []
  }
 ],
 "metadata": {
  "kernelspec": {
   "display_name": "Python 3",
   "language": "python",
   "name": "python3"
  },
  "language_info": {
   "codemirror_mode": {
    "name": "ipython",
    "version": 3
   },
   "file_extension": ".py",
   "mimetype": "text/x-python",
   "name": "python",
   "nbconvert_exporter": "python",
   "pygments_lexer": "ipython3",
   "version": "3.8.3"
  }
 },
 "nbformat": 4,
 "nbformat_minor": 4
}
